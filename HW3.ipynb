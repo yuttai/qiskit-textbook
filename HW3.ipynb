{
 "cells": [
  {
   "cell_type": "code",
   "execution_count": 1,
   "id": "021d2e15-bcf5-46cc-a539-0ccc2671ed6e",
   "metadata": {},
   "outputs": [
    {
     "name": "stderr",
     "output_type": "stream",
     "text": [
      "<frozen importlib._bootstrap>:219: RuntimeWarning: scipy._lib.messagestream.MessageStream size changed, may indicate binary incompatibility. Expected 56 from C header, got 64 from PyObject\n"
     ]
    }
   ],
   "source": [
    "import numpy as np\n",
    "\n",
    "# Importing standard Qiskit libraries\n",
    "from qiskit import QuantumCircuit, transpile, Aer, IBMQ\n",
    "from qiskit.tools.jupyter import *\n",
    "from qiskit.visualization import *\n",
    "from ibm_quantum_widgets import *\n",
    "from qiskit.providers.aer import QasmSimulator\n",
    "\n",
    "# Loading your IBM Quantum account(s)\n",
    "provider = IBMQ.load_account()"
   ]
  },
  {
   "cell_type": "code",
   "execution_count": 8,
   "id": "5e3ae1c2-3b60-4bf7-af5c-780f0f64202f",
   "metadata": {},
   "outputs": [
    {
     "data": {
      "application/vnd.jupyter.widget-view+json": {
       "model_id": "950e063a2fd9409181035088b5b52d24",
       "version_major": 2,
       "version_minor": 0
      },
      "text/plain": [
       "VBox(children=(Label(value='State Vector:'), HBox(children=(Text(value='[1, 0]', placeholder='Type something')…"
      ]
     },
     "metadata": {},
     "output_type": "display_data"
    },
    {
     "data": {
      "application/vnd.jupyter.widget-view+json": {
       "model_id": "ee65d969899045c8a4bb6597318a759a",
       "version_major": 2,
       "version_minor": 0
      },
      "text/plain": [
       "HTML(value='<pre></pre>')"
      ]
     },
     "metadata": {},
     "output_type": "display_data"
    }
   ],
   "source": [
    "from qiskit_textbook.widgets import state_vector_exercise\n",
    "state_vector_exercise(target=1/3)\n",
    "#[sqrt(1/3),sqrt(2/3)]\n",
    "#[(sqrt(2)+1j)/3,(2+sqrt(2)*1j)/3]"
   ]
  },
  {
   "cell_type": "code",
   "execution_count": 9,
   "id": "62835855-cdfa-45ca-b392-5698dd166477",
   "metadata": {},
   "outputs": [
    {
     "data": {
      "application/vnd.jupyter.widget-view+json": {
       "model_id": "50c4257b07694978aeb129df8107cf77",
       "version_major": 2,
       "version_minor": 0
      },
      "text/plain": [
       "VBox(children=(Label(value='State Vector:'), HBox(children=(Text(value='[1, 0]', placeholder='Type something')…"
      ]
     },
     "metadata": {},
     "output_type": "display_data"
    },
    {
     "data": {
      "application/vnd.jupyter.widget-view+json": {
       "model_id": "588ad2ba072e4e408e7f0e4e3cf22c0c",
       "version_major": 2,
       "version_minor": 0
      },
      "text/plain": [
       "HTML(value='<pre></pre>')"
      ]
     },
     "metadata": {},
     "output_type": "display_data"
    }
   ],
   "source": [
    "from qiskit_textbook.widgets import state_vector_exercise\n",
    "state_vector_exercise(target=1/3)\n",
    "#[sqrt(1/3),sqrt(2/3)]"
   ]
  },
  {
   "cell_type": "code",
   "execution_count": 10,
   "id": "46927e49-c112-4b9f-9d74-cb91f9a7e675",
   "metadata": {},
   "outputs": [
    {
     "name": "stdout",
     "output_type": "stream",
     "text": [
      "0.9999999999999999 1.0 0.7499999999999999\n"
     ]
    }
   ],
   "source": [
    "#third\n",
    "from numpy import vdot\n",
    "from numpy.linalg import norm\n",
    "from math import sqrt\n",
    "𝝍 = [1 / 2, sqrt(3) / 2]\n",
    "𝑥 = [0, 1]\n",
    "print(norm(𝝍), norm(𝑥), abs(vdot(𝝍, 𝑥)) ** 2)"
   ]
  },
  {
   "cell_type": "code",
   "execution_count": null,
   "id": "b1756a34-a4f4-494a-a0eb-bca76a792810",
   "metadata": {},
   "outputs": [],
   "source": []
  }
 ],
 "metadata": {
  "kernelspec": {
   "display_name": "Python 3 (ipykernel)",
   "language": "python",
   "name": "python3"
  },
  "language_info": {
   "codemirror_mode": {
    "name": "ipython",
    "version": 3
   },
   "file_extension": ".py",
   "mimetype": "text/x-python",
   "name": "python",
   "nbconvert_exporter": "python",
   "pygments_lexer": "ipython3",
   "version": "3.8.13"
  },
  "widgets": {
   "application/vnd.jupyter.widget-state+json": {
    "state": {
     "036f9b6c5766414481954abaaf75fe7c": {
      "model_module": "@jupyter-widgets/base",
      "model_module_version": "1.2.0",
      "model_name": "LayoutModel",
      "state": {
       "width": "5em"
      }
     },
     "042d765154aa4f20b24d1fb68a16bf47": {
      "model_module": "@jupyter-widgets/controls",
      "model_module_version": "1.5.0",
      "model_name": "DescriptionStyleModel",
      "state": {
       "description_width": ""
      }
     },
     "09153dcab62845a4b720a3c93ca34323": {
      "model_module": "@jupyter-widgets/controls",
      "model_module_version": "1.5.0",
      "model_name": "DescriptionStyleModel",
      "state": {
       "description_width": ""
      }
     },
     "09baf7184f9c4b518e75d90ce9428587": {
      "model_module": "@jupyter-widgets/controls",
      "model_module_version": "1.5.0",
      "model_name": "HBoxModel",
      "state": {
       "children": [
        "IPY_MODEL_eb6dce943afb4a31afe6c839fd941609",
        "IPY_MODEL_2869bbb2ec774b99ba8e0f44c21781ed"
       ],
       "layout": "IPY_MODEL_bad36029383743779942c3f3a88ab828"
      }
     },
     "0a2741c460de4675beaa40a01cfd041e": {
      "model_module": "@jupyter-widgets/controls",
      "model_module_version": "1.5.0",
      "model_name": "VBoxModel",
      "state": {
       "children": [
        "IPY_MODEL_7af54a238c964c0da9c95be426005fda",
        "IPY_MODEL_09baf7184f9c4b518e75d90ce9428587"
       ],
       "layout": "IPY_MODEL_ae6b743e5a2c4235b77fcebc969f2c3f"
      }
     },
     "0ef700e4c78341758515f8ddfcacc2ca": {
      "model_module": "@jupyter-widgets/base",
      "model_module_version": "1.2.0",
      "model_name": "LayoutModel",
      "state": {
       "grid_area": "right",
       "padding": "0px 0px 0px 0px",
       "width": "70px"
      }
     },
     "0f248593f0d04876a146c2c49a649758": {
      "model_module": "@jupyter-widgets/controls",
      "model_module_version": "1.5.0",
      "model_name": "LabelModel",
      "state": {
       "layout": "IPY_MODEL_2454f7bb33a746879ed0fe065dc1a443",
       "style": "IPY_MODEL_3d7f22a88ad349efa90cb0087812acfa",
       "value": "State Vector:"
      }
     },
     "1632b059a9cd407590f9c5a70b23cc53": {
      "model_module": "@jupyter-widgets/base",
      "model_module_version": "1.2.0",
      "model_name": "LayoutModel",
      "state": {}
     },
     "1feee9d5839e42619e232ad04c0d8e0f": {
      "model_module": "@jupyter-widgets/controls",
      "model_module_version": "1.5.0",
      "model_name": "DescriptionStyleModel",
      "state": {
       "description_width": ""
      }
     },
     "205af208277b4ec3b8e98c6ae0c41bee": {
      "model_module": "@jupyter-widgets/controls",
      "model_module_version": "1.5.0",
      "model_name": "DescriptionStyleModel",
      "state": {
       "description_width": ""
      }
     },
     "214e1eff201a45d6a6a13ab29f485d81": {
      "model_module": "@jupyter-widgets/base",
      "model_module_version": "1.2.0",
      "model_name": "LayoutModel",
      "state": {}
     },
     "21d4173d65454e9d87f802c819ab4289": {
      "model_module": "@jupyter-widgets/controls",
      "model_module_version": "1.5.0",
      "model_name": "DescriptionStyleModel",
      "state": {
       "description_width": ""
      }
     },
     "228d8bacc59341a1b02fbf8938754261": {
      "model_module": "@jupyter-widgets/base",
      "model_module_version": "1.2.0",
      "model_name": "LayoutModel",
      "state": {
       "width": "5em"
      }
     },
     "2454f7bb33a746879ed0fe065dc1a443": {
      "model_module": "@jupyter-widgets/base",
      "model_module_version": "1.2.0",
      "model_name": "LayoutModel",
      "state": {}
     },
     "27af298bfb504df99bbbd4667960e960": {
      "model_module": "@jupyter-widgets/controls",
      "model_module_version": "1.5.0",
      "model_name": "LabelModel",
      "state": {
       "layout": "IPY_MODEL_a27b9ea469cb46ebb10ecdae68126412",
       "style": "IPY_MODEL_1feee9d5839e42619e232ad04c0d8e0f",
       "value": "State Vector:"
      }
     },
     "2851d1a9d67c4faabc964c82474041f5": {
      "model_module": "@jupyter-widgets/base",
      "model_module_version": "1.2.0",
      "model_name": "LayoutModel",
      "state": {
       "margin": "0px 0px 10px 0px"
      }
     },
     "2869bbb2ec774b99ba8e0f44c21781ed": {
      "model_module": "@jupyter-widgets/controls",
      "model_module_version": "1.5.0",
      "model_name": "ButtonModel",
      "state": {
       "description": "Check",
       "layout": "IPY_MODEL_8885fb0ccc744e9aa45deb7edad02dda",
       "style": "IPY_MODEL_338c291f6fad490bb046659b17af2adf"
      }
     },
     "294f70f543534670b01bca2bab75088c": {
      "model_module": "@jupyter-widgets/controls",
      "model_module_version": "1.5.0",
      "model_name": "DescriptionStyleModel",
      "state": {
       "description_width": ""
      }
     },
     "2a78982ab32841818d3e31b5b0d61dce": {
      "model_module": "@jupyter-widgets/base",
      "model_module_version": "1.2.0",
      "model_name": "LayoutModel",
      "state": {}
     },
     "2aa0f5775bd147cfa9ddc6452738dd87": {
      "model_module": "@jupyter-widgets/base",
      "model_module_version": "1.2.0",
      "model_name": "LayoutModel",
      "state": {
       "width": "5em"
      }
     },
     "2af1eed2afeb4f48b4bc5cc671f69edc": {
      "model_module": "@jupyter-widgets/base",
      "model_module_version": "1.2.0",
      "model_name": "LayoutModel",
      "state": {
       "margin": "0px 0px 0px 37px",
       "width": "600px"
      }
     },
     "2e8f22b46fcd4581aac245851da3dbce": {
      "model_module": "@jupyter-widgets/base",
      "model_module_version": "1.2.0",
      "model_name": "LayoutModel",
      "state": {}
     },
     "3024ccd19dd0411e8b1078c61bc1fedf": {
      "model_module": "@jupyter-widgets/base",
      "model_module_version": "1.2.0",
      "model_name": "LayoutModel",
      "state": {}
     },
     "3167c2dac48a48cc86d1a8dfcb92d10d": {
      "model_module": "@jupyter-widgets/controls",
      "model_module_version": "1.5.0",
      "model_name": "VBoxModel",
      "state": {
       "children": [
        "IPY_MODEL_e5c6f2a9be6948238cd12106be6059ec",
        "IPY_MODEL_aa4b1ada1c644261977362b2dbb479cf"
       ],
       "layout": "IPY_MODEL_ffe55c35a8ec4d97b3d7f06249c37bca"
      }
     },
     "321121f02b8d485ab530ca06f20dc499": {
      "model_module": "@jupyter-widgets/controls",
      "model_module_version": "1.5.0",
      "model_name": "HTMLModel",
      "state": {
       "layout": "IPY_MODEL_ad8136e540c448b6a109b3c9fbc80380",
       "style": "IPY_MODEL_a2d13a29dfff48f280a78d90eb4c0a35",
       "value": "<pre>Correct!</pre>"
      }
     },
     "32af6110827040f9b6a9bcb5258f7b6d": {
      "model_module": "@jupyter-widgets/controls",
      "model_module_version": "1.5.0",
      "model_name": "DescriptionStyleModel",
      "state": {
       "description_width": ""
      }
     },
     "338c291f6fad490bb046659b17af2adf": {
      "model_module": "@jupyter-widgets/controls",
      "model_module_version": "1.5.0",
      "model_name": "ButtonStyleModel",
      "state": {}
     },
     "34f8c64b1fb54d788036a6758ab43478": {
      "model_module": "@jupyter-widgets/controls",
      "model_module_version": "1.5.0",
      "model_name": "DescriptionStyleModel",
      "state": {
       "description_width": ""
      }
     },
     "3532c79765744b72b79f0e4f419ddf85": {
      "model_module": "@jupyter-widgets/base",
      "model_module_version": "1.2.0",
      "model_name": "LayoutModel",
      "state": {}
     },
     "36d2060def014ae2b398b526edb2c3a2": {
      "model_module": "@jupyter-widgets/controls",
      "model_module_version": "1.5.0",
      "model_name": "DescriptionStyleModel",
      "state": {
       "description_width": ""
      }
     },
     "387733e60f5240aebf57de497d6c7e1a": {
      "model_module": "@jupyter-widgets/base",
      "model_module_version": "1.2.0",
      "model_name": "LayoutModel",
      "state": {}
     },
     "3c74cab08d1245eeab9ee7d00832dfc7": {
      "model_module": "@jupyter-widgets/base",
      "model_module_version": "1.2.0",
      "model_name": "LayoutModel",
      "state": {
       "width": "5em"
      }
     },
     "3ca126b1cf844a399ffc9742c4d6ed68": {
      "model_module": "@jupyter-widgets/base",
      "model_module_version": "1.2.0",
      "model_name": "LayoutModel",
      "state": {
       "grid_template_areas": "\n                                       \". . . . right \"\n                                        ",
       "grid_template_columns": "20% 20% 20% 20% 20%",
       "width": "100%"
      }
     },
     "3d7f22a88ad349efa90cb0087812acfa": {
      "model_module": "@jupyter-widgets/controls",
      "model_module_version": "1.5.0",
      "model_name": "DescriptionStyleModel",
      "state": {
       "description_width": ""
      }
     },
     "3dfbce9784df4353962043bf30d0e42e": {
      "model_module": "@jupyter-widgets/base",
      "model_module_version": "1.2.0",
      "model_name": "LayoutModel",
      "state": {}
     },
     "3e3460ea0eec4ec7bbafd4fb70a80ebf": {
      "model_module": "@jupyter-widgets/base",
      "model_module_version": "1.2.0",
      "model_name": "LayoutModel",
      "state": {}
     },
     "415ebc622404417aabd581a18e30d5bf": {
      "model_module": "@jupyter-widgets/controls",
      "model_module_version": "1.5.0",
      "model_name": "ButtonStyleModel",
      "state": {}
     },
     "41d08bdf84b94b1784af9f21791ccc55": {
      "model_module": "@jupyter-widgets/controls",
      "model_module_version": "1.5.0",
      "model_name": "DescriptionStyleModel",
      "state": {
       "description_width": ""
      }
     },
     "45fe982f9a0749d5adc51fe5401d9ee0": {
      "model_module": "@jupyter-widgets/controls",
      "model_module_version": "1.5.0",
      "model_name": "DescriptionStyleModel",
      "state": {
       "description_width": ""
      }
     },
     "490d844c4bf74d9fb866c70b4c107b31": {
      "model_module": "@jupyter-widgets/base",
      "model_module_version": "1.2.0",
      "model_name": "LayoutModel",
      "state": {
       "width": "190px"
      }
     },
     "4ba374b09b504e26aa047f594cd98b4d": {
      "model_module": "@jupyter-widgets/controls",
      "model_module_version": "1.5.0",
      "model_name": "HTMLModel",
      "state": {
       "layout": "IPY_MODEL_de69eeb43a4445f2b6c40dd49de2de55",
       "style": "IPY_MODEL_36d2060def014ae2b398b526edb2c3a2",
       "value": "<h5>Queue</h5>"
      }
     },
     "4c48bc299a954ed5b6e832382c219130": {
      "model_module": "@jupyter-widgets/base",
      "model_module_version": "1.2.0",
      "model_name": "LayoutModel",
      "state": {}
     },
     "4ce87ffea465455791929d1f3cef1f11": {
      "model_module": "@jupyter-widgets/controls",
      "model_module_version": "1.5.0",
      "model_name": "VBoxModel",
      "state": {
       "children": [
        "IPY_MODEL_c7bbef52c08043f8b98aca42add05540",
        "IPY_MODEL_7b35bcfdf19048c68197b358a675502a"
       ],
       "layout": "IPY_MODEL_ba0815f471b748de9d302d1841ad47c5"
      }
     },
     "50c4257b07694978aeb129df8107cf77": {
      "model_module": "@jupyter-widgets/controls",
      "model_module_version": "1.5.0",
      "model_name": "VBoxModel",
      "state": {
       "children": [
        "IPY_MODEL_0f248593f0d04876a146c2c49a649758",
        "IPY_MODEL_8cec723045f14d56b42697adff37587a"
       ],
       "layout": "IPY_MODEL_846a20cbf59048ffb6d3266d03a892b2"
      }
     },
     "5502aa1d0569489dac7483796b769254": {
      "model_module": "@jupyter-widgets/base",
      "model_module_version": "1.2.0",
      "model_name": "LayoutModel",
      "state": {}
     },
     "56984b713f804f3f95d916200d2ecd2d": {
      "model_module": "@jupyter-widgets/controls",
      "model_module_version": "1.5.0",
      "model_name": "TextModel",
      "state": {
       "layout": "IPY_MODEL_d848c0166ddd41c2add792156da39f8e",
       "placeholder": "Type something",
       "style": "IPY_MODEL_41d08bdf84b94b1784af9f21791ccc55",
       "value": "[sqrt(1/3),sqrt(2/3)]"
      }
     },
     "5761cea15933414788df0246a8b84eb5": {
      "model_module": "@jupyter-widgets/base",
      "model_module_version": "1.2.0",
      "model_name": "LayoutModel",
      "state": {}
     },
     "588ad2ba072e4e408e7f0e4e3cf22c0c": {
      "model_module": "@jupyter-widgets/controls",
      "model_module_version": "1.5.0",
      "model_name": "HTMLModel",
      "state": {
       "layout": "IPY_MODEL_c0204b916d92486a84b880e76996ec2a",
       "style": "IPY_MODEL_af2fa4fe63ea44dfa32e2b98847559cb",
       "value": "<pre>Correct!</pre>"
      }
     },
     "6046037d05b84850b46eaecd9e757c42": {
      "model_module": "@jupyter-widgets/base",
      "model_module_version": "1.2.0",
      "model_name": "LayoutModel",
      "state": {
       "width": "5em"
      }
     },
     "6202d30b11ee46dc801e840dacd35fe2": {
      "model_module": "@jupyter-widgets/controls",
      "model_module_version": "1.5.0",
      "model_name": "HBoxModel",
      "state": {
       "children": [
        "IPY_MODEL_643a6ab75ede446998b278c5963e3d17",
        "IPY_MODEL_93dae0f4714e4dbab1e0bd15f873b892",
        "IPY_MODEL_b76d554cbb5d4973941b76f62b08e92b",
        "IPY_MODEL_4ba374b09b504e26aa047f594cd98b4d",
        "IPY_MODEL_b4880c631a9f47208f5bbd896f0e4f93"
       ],
       "layout": "IPY_MODEL_2af1eed2afeb4f48b4bc5cc671f69edc"
      }
     },
     "628f0974b4c249509bf0f1b557f268f1": {
      "model_module": "@jupyter-widgets/base",
      "model_module_version": "1.2.0",
      "model_name": "LayoutModel",
      "state": {}
     },
     "6409fbdf44004a5b93529f3834f79feb": {
      "model_module": "@jupyter-widgets/controls",
      "model_module_version": "1.5.0",
      "model_name": "TextModel",
      "state": {
       "layout": "IPY_MODEL_7b8d8aa2e95d4db39fb2299269c95f11",
       "placeholder": "Type something",
       "style": "IPY_MODEL_d4964e262c60441b8076953040b9b75e",
       "value": "[(sqrt(2)+1j)/3,(2+sqrt(2)*1j)/3]"
      }
     },
     "643a6ab75ede446998b278c5963e3d17": {
      "model_module": "@jupyter-widgets/controls",
      "model_module_version": "1.5.0",
      "model_name": "HTMLModel",
      "state": {
       "layout": "IPY_MODEL_490d844c4bf74d9fb866c70b4c107b31",
       "style": "IPY_MODEL_c62fddb8354c4121bde8a4fe7b524e7c",
       "value": "<h5>Job ID</h5>"
      }
     },
     "69882d7eb2834f6397e1f008911e0ba8": {
      "model_module": "@jupyter-widgets/controls",
      "model_module_version": "1.5.0",
      "model_name": "DescriptionStyleModel",
      "state": {
       "description_width": ""
      }
     },
     "6a9e1fa370d24299b2e04f51b72dbe8b": {
      "model_module": "@jupyter-widgets/controls",
      "model_module_version": "1.5.0",
      "model_name": "TextModel",
      "state": {
       "layout": "IPY_MODEL_387733e60f5240aebf57de497d6c7e1a",
       "placeholder": "Type something",
       "style": "IPY_MODEL_69882d7eb2834f6397e1f008911e0ba8"
      }
     },
     "6d2df020bbde4fe2b30c789381687ea3": {
      "model_module": "@jupyter-widgets/base",
      "model_module_version": "1.2.0",
      "model_name": "LayoutModel",
      "state": {}
     },
     "6e5ceb1420be47fe9828f5f3920fb90e": {
      "model_module": "@jupyter-widgets/controls",
      "model_module_version": "1.5.0",
      "model_name": "HBoxModel",
      "state": {
       "children": [
        "IPY_MODEL_56984b713f804f3f95d916200d2ecd2d",
        "IPY_MODEL_84e8135a4abb4232886ba82e277a274f"
       ],
       "layout": "IPY_MODEL_2e8f22b46fcd4581aac245851da3dbce"
      }
     },
     "72a7d1d274bd4b55ac9b4726d4f73046": {
      "model_module": "@jupyter-widgets/controls",
      "model_module_version": "1.5.0",
      "model_name": "DescriptionStyleModel",
      "state": {
       "description_width": ""
      }
     },
     "77568672d26341d4b7a5980bbf3ffa91": {
      "model_module": "@jupyter-widgets/controls",
      "model_module_version": "1.5.0",
      "model_name": "ButtonModel",
      "state": {
       "description": "Check",
       "layout": "IPY_MODEL_6046037d05b84850b46eaecd9e757c42",
       "style": "IPY_MODEL_9c39385f2bef4e60ad6f84c0f01ff7ee"
      }
     },
     "7af54a238c964c0da9c95be426005fda": {
      "model_module": "@jupyter-widgets/controls",
      "model_module_version": "1.5.0",
      "model_name": "LabelModel",
      "state": {
       "layout": "IPY_MODEL_a4b773bcc2f04c45b7438b7ae2960748",
       "style": "IPY_MODEL_8f9f8ede4f594d05aba65e1e62ed4ab4",
       "value": "State Vector:"
      }
     },
     "7b35bcfdf19048c68197b358a675502a": {
      "model_module": "@jupyter-widgets/controls",
      "model_module_version": "1.5.0",
      "model_name": "HBoxModel",
      "state": {
       "children": [
        "IPY_MODEL_99fc2de8c5b6478b88431ee418d7b26e",
        "IPY_MODEL_f06022ff1f1344959e058ba87bc9487c"
       ],
       "layout": "IPY_MODEL_97cd730d4eba4cdebdf084954e653aa4"
      }
     },
     "7b8d8aa2e95d4db39fb2299269c95f11": {
      "model_module": "@jupyter-widgets/base",
      "model_module_version": "1.2.0",
      "model_name": "LayoutModel",
      "state": {}
     },
     "7e82d0ac8d3a4846a14fc01874355dca": {
      "model_module": "@jupyter-widgets/controls",
      "model_module_version": "1.5.0",
      "model_name": "HTMLModel",
      "state": {
       "layout": "IPY_MODEL_b256f0581d734e4bbd5bc80a6155646e",
       "style": "IPY_MODEL_7fbb28149b9540ea957d3794377e51ef",
       "value": "<pre>The absolute value of 1, squared is not equal to 0.3333333333333333</pre>"
      }
     },
     "7ea9f2e72f834712a1e0d09390356906": {
      "model_module": "@jupyter-widgets/base",
      "model_module_version": "1.2.0",
      "model_name": "LayoutModel",
      "state": {}
     },
     "7fbb28149b9540ea957d3794377e51ef": {
      "model_module": "@jupyter-widgets/controls",
      "model_module_version": "1.5.0",
      "model_name": "DescriptionStyleModel",
      "state": {
       "description_width": ""
      }
     },
     "80f9b80c18aa4e60817581e48ad56f2f": {
      "model_module": "@jupyter-widgets/controls",
      "model_module_version": "1.5.0",
      "model_name": "ButtonStyleModel",
      "state": {}
     },
     "846a20cbf59048ffb6d3266d03a892b2": {
      "model_module": "@jupyter-widgets/base",
      "model_module_version": "1.2.0",
      "model_name": "LayoutModel",
      "state": {}
     },
     "84e8135a4abb4232886ba82e277a274f": {
      "model_module": "@jupyter-widgets/controls",
      "model_module_version": "1.5.0",
      "model_name": "ButtonModel",
      "state": {
       "description": "Check",
       "layout": "IPY_MODEL_2aa0f5775bd147cfa9ddc6452738dd87",
       "style": "IPY_MODEL_9b9fd4f522d148698505551b123d5fed"
      }
     },
     "87f000385b6e41c7b4b013b3a6026270": {
      "model_module": "@jupyter-widgets/base",
      "model_module_version": "1.2.0",
      "model_name": "LayoutModel",
      "state": {}
     },
     "8885fb0ccc744e9aa45deb7edad02dda": {
      "model_module": "@jupyter-widgets/base",
      "model_module_version": "1.2.0",
      "model_name": "LayoutModel",
      "state": {
       "width": "5em"
      }
     },
     "8cec723045f14d56b42697adff37587a": {
      "model_module": "@jupyter-widgets/controls",
      "model_module_version": "1.5.0",
      "model_name": "HBoxModel",
      "state": {
       "children": [
        "IPY_MODEL_6409fbdf44004a5b93529f3834f79feb",
        "IPY_MODEL_aef783145e184ce1bc127e8a449f5f7b"
       ],
       "layout": "IPY_MODEL_7ea9f2e72f834712a1e0d09390356906"
      }
     },
     "8d2dbb8d98ed49d7af0f3efdf41be61b": {
      "model_module": "@jupyter-widgets/controls",
      "model_module_version": "1.5.0",
      "model_name": "HTMLModel",
      "state": {
       "layout": "IPY_MODEL_3532c79765744b72b79f0e4f419ddf85",
       "style": "IPY_MODEL_b67d0d8f3dbe4524a3a50bbde9838824",
       "value": "<pre>Correct!</pre>"
      }
     },
     "8f9f8ede4f594d05aba65e1e62ed4ab4": {
      "model_module": "@jupyter-widgets/controls",
      "model_module_version": "1.5.0",
      "model_name": "DescriptionStyleModel",
      "state": {
       "description_width": ""
      }
     },
     "8fb9859f50a141b59062ab5443d42b33": {
      "model_module": "@jupyter-widgets/controls",
      "model_module_version": "1.5.0",
      "model_name": "LabelModel",
      "state": {
       "layout": "IPY_MODEL_214e1eff201a45d6a6a13ab29f485d81",
       "style": "IPY_MODEL_205af208277b4ec3b8e98c6ae0c41bee",
       "value": "State Vector:"
      }
     },
     "9254af64072f4d678ad18fecd0beb3f8": {
      "model_module": "@jupyter-widgets/controls",
      "model_module_version": "1.5.0",
      "model_name": "TextModel",
      "state": {
       "layout": "IPY_MODEL_1632b059a9cd407590f9c5a70b23cc53",
       "placeholder": "Type something",
       "style": "IPY_MODEL_b59202644a164b74b3f57c680b54064a",
       "value": "[1, 0]"
      }
     },
     "9278ae8a67b04bca82226c089cbd084e": {
      "model_module": "@jupyter-widgets/controls",
      "model_module_version": "1.5.0",
      "model_name": "ButtonModel",
      "state": {
       "description": "Check",
       "layout": "IPY_MODEL_fb24b929ff034e2a9b231bdf93af7d20",
       "style": "IPY_MODEL_ed7effe7e58b4d7c88f032a57b06b9ed"
      }
     },
     "93dae0f4714e4dbab1e0bd15f873b892": {
      "model_module": "@jupyter-widgets/controls",
      "model_module_version": "1.5.0",
      "model_name": "HTMLModel",
      "state": {
       "layout": "IPY_MODEL_da6e833b595f4bc7ba4aca3301e076ce",
       "style": "IPY_MODEL_32af6110827040f9b6a9bcb5258f7b6d",
       "value": "<h5>Backend</h5>"
      }
     },
     "950e063a2fd9409181035088b5b52d24": {
      "model_module": "@jupyter-widgets/controls",
      "model_module_version": "1.5.0",
      "model_name": "VBoxModel",
      "state": {
       "children": [
        "IPY_MODEL_8fb9859f50a141b59062ab5443d42b33",
        "IPY_MODEL_6e5ceb1420be47fe9828f5f3920fb90e"
       ],
       "layout": "IPY_MODEL_87f000385b6e41c7b4b013b3a6026270"
      }
     },
     "9726c2a01ae44621b0fa436ee71a0983": {
      "model_module": "@jupyter-widgets/controls",
      "model_module_version": "1.5.0",
      "model_name": "HBoxModel",
      "state": {
       "children": [
        "IPY_MODEL_e6e8b7398ca74e25bcd4d0d357a56ab4",
        "IPY_MODEL_77568672d26341d4b7a5980bbf3ffa91"
       ],
       "layout": "IPY_MODEL_5761cea15933414788df0246a8b84eb5"
      }
     },
     "97cd730d4eba4cdebdf084954e653aa4": {
      "model_module": "@jupyter-widgets/base",
      "model_module_version": "1.2.0",
      "model_name": "LayoutModel",
      "state": {}
     },
     "99fc2de8c5b6478b88431ee418d7b26e": {
      "model_module": "@jupyter-widgets/controls",
      "model_module_version": "1.5.0",
      "model_name": "TextModel",
      "state": {
       "layout": "IPY_MODEL_a9eb990907694bfcb74bf7010c11fa63",
       "placeholder": "Type something",
       "style": "IPY_MODEL_45fe982f9a0749d5adc51fe5401d9ee0",
       "value": "[sqrt(1/3),sqrt(2/3)]"
      }
     },
     "9b9fd4f522d148698505551b123d5fed": {
      "model_module": "@jupyter-widgets/controls",
      "model_module_version": "1.5.0",
      "model_name": "ButtonStyleModel",
      "state": {}
     },
     "9c39385f2bef4e60ad6f84c0f01ff7ee": {
      "model_module": "@jupyter-widgets/controls",
      "model_module_version": "1.5.0",
      "model_name": "ButtonStyleModel",
      "state": {}
     },
     "9d7d7b6e201a4a9cba0eb86b76a8a268": {
      "model_module": "@jupyter-widgets/controls",
      "model_module_version": "1.5.0",
      "model_name": "GridBoxModel",
      "state": {
       "children": [
        "IPY_MODEL_9f1d7b5aad20467ca17ce9cdc5636771"
       ],
       "layout": "IPY_MODEL_3ca126b1cf844a399ffc9742c4d6ed68"
      }
     },
     "9f1d7b5aad20467ca17ce9cdc5636771": {
      "model_module": "@jupyter-widgets/controls",
      "model_module_version": "1.5.0",
      "model_name": "ButtonModel",
      "state": {
       "button_style": "primary",
       "description": "Clear",
       "layout": "IPY_MODEL_0ef700e4c78341758515f8ddfcacc2ca",
       "style": "IPY_MODEL_80f9b80c18aa4e60817581e48ad56f2f"
      }
     },
     "9fccd623d5a04e899c30cccb0e1b2a1c": {
      "model_module": "@jupyter-widgets/base",
      "model_module_version": "1.2.0",
      "model_name": "LayoutModel",
      "state": {}
     },
     "a2467efe24c345808c890482dc8efdb3": {
      "model_module": "@jupyter-widgets/controls",
      "model_module_version": "1.5.0",
      "model_name": "DescriptionStyleModel",
      "state": {
       "description_width": ""
      }
     },
     "a27b9ea469cb46ebb10ecdae68126412": {
      "model_module": "@jupyter-widgets/base",
      "model_module_version": "1.2.0",
      "model_name": "LayoutModel",
      "state": {}
     },
     "a2d13a29dfff48f280a78d90eb4c0a35": {
      "model_module": "@jupyter-widgets/controls",
      "model_module_version": "1.5.0",
      "model_name": "DescriptionStyleModel",
      "state": {
       "description_width": ""
      }
     },
     "a4b773bcc2f04c45b7438b7ae2960748": {
      "model_module": "@jupyter-widgets/base",
      "model_module_version": "1.2.0",
      "model_name": "LayoutModel",
      "state": {}
     },
     "a796e476634741528fca2cb5b7c51513": {
      "model_module": "@jupyter-widgets/controls",
      "model_module_version": "1.5.0",
      "model_name": "VBoxModel",
      "state": {
       "children": [
        "IPY_MODEL_d75f947c8c3147a0abae5b7b977e261a",
        "IPY_MODEL_9726c2a01ae44621b0fa436ee71a0983"
       ],
       "layout": "IPY_MODEL_fdc3b9cf86e44c6a9f1ef036520e7cb1"
      }
     },
     "a8ccbc20caae4c648f53a12b7b2c7fae": {
      "model_module": "@jupyter-widgets/controls",
      "model_module_version": "1.5.0",
      "model_name": "HTMLModel",
      "state": {
       "layout": "IPY_MODEL_2851d1a9d67c4faabc964c82474041f5",
       "style": "IPY_MODEL_042d765154aa4f20b24d1fb68a16bf47",
       "value": "<p style='font-family: IBM Plex Sans, Arial, Helvetica, sans-serif; font-size: 20px; font-weight: medium;'>Circuit Properties</p>"
      }
     },
     "a939daba073d418c847403fa7fdf63ec": {
      "model_module": "@jupyter-widgets/base",
      "model_module_version": "1.2.0",
      "model_name": "LayoutModel",
      "state": {}
     },
     "a9a42e8948344500b61c33f3b909d023": {
      "model_module": "@jupyter-widgets/controls",
      "model_module_version": "1.5.0",
      "model_name": "DescriptionStyleModel",
      "state": {
       "description_width": ""
      }
     },
     "a9eb990907694bfcb74bf7010c11fa63": {
      "model_module": "@jupyter-widgets/base",
      "model_module_version": "1.2.0",
      "model_name": "LayoutModel",
      "state": {}
     },
     "aa4b1ada1c644261977362b2dbb479cf": {
      "model_module": "@jupyter-widgets/controls",
      "model_module_version": "1.5.0",
      "model_name": "HBoxModel",
      "state": {
       "children": [
        "IPY_MODEL_6a9e1fa370d24299b2e04f51b72dbe8b",
        "IPY_MODEL_f7b384f80b384d70b0f7e8c981ad00b9"
       ],
       "layout": "IPY_MODEL_fd60033aded343088fa6bfed965b8ddd"
      }
     },
     "ab2cb83834ff40398a1d72f8704e07b1": {
      "model_module": "@jupyter-widgets/controls",
      "model_module_version": "1.5.0",
      "model_name": "DescriptionStyleModel",
      "state": {
       "description_width": ""
      }
     },
     "acf12bdfd3854a7e938f1e6d14ce42f7": {
      "model_module": "@jupyter-widgets/controls",
      "model_module_version": "1.5.0",
      "model_name": "DescriptionStyleModel",
      "state": {
       "description_width": ""
      }
     },
     "ad298ce67c2949bb8f2e210f38e64d3f": {
      "model_module": "@jupyter-widgets/controls",
      "model_module_version": "1.5.0",
      "model_name": "HBoxModel",
      "state": {
       "children": [
        "IPY_MODEL_9254af64072f4d678ad18fecd0beb3f8",
        "IPY_MODEL_9278ae8a67b04bca82226c089cbd084e"
       ],
       "layout": "IPY_MODEL_5502aa1d0569489dac7483796b769254"
      }
     },
     "ad8136e540c448b6a109b3c9fbc80380": {
      "model_module": "@jupyter-widgets/base",
      "model_module_version": "1.2.0",
      "model_name": "LayoutModel",
      "state": {}
     },
     "ae6b743e5a2c4235b77fcebc969f2c3f": {
      "model_module": "@jupyter-widgets/base",
      "model_module_version": "1.2.0",
      "model_name": "LayoutModel",
      "state": {}
     },
     "aef783145e184ce1bc127e8a449f5f7b": {
      "model_module": "@jupyter-widgets/controls",
      "model_module_version": "1.5.0",
      "model_name": "ButtonModel",
      "state": {
       "description": "Check",
       "layout": "IPY_MODEL_036f9b6c5766414481954abaaf75fe7c",
       "style": "IPY_MODEL_415ebc622404417aabd581a18e30d5bf"
      }
     },
     "af2fa4fe63ea44dfa32e2b98847559cb": {
      "model_module": "@jupyter-widgets/controls",
      "model_module_version": "1.5.0",
      "model_name": "DescriptionStyleModel",
      "state": {
       "description_width": ""
      }
     },
     "b256f0581d734e4bbd5bc80a6155646e": {
      "model_module": "@jupyter-widgets/base",
      "model_module_version": "1.2.0",
      "model_name": "LayoutModel",
      "state": {}
     },
     "b45a60564259477db279a317b9174825": {
      "model_module": "@jupyter-widgets/controls",
      "model_module_version": "1.5.0",
      "model_name": "HTMLModel",
      "state": {
       "layout": "IPY_MODEL_3024ccd19dd0411e8b1078c61bc1fedf",
       "style": "IPY_MODEL_09153dcab62845a4b720a3c93ca34323",
       "value": "<pre>The absolute value of 1, squared is not equal to 0.3333333333333333</pre>"
      }
     },
     "b4880c631a9f47208f5bbd896f0e4f93": {
      "model_module": "@jupyter-widgets/controls",
      "model_module_version": "1.5.0",
      "model_name": "HTMLModel",
      "state": {
       "layout": "IPY_MODEL_4c48bc299a954ed5b6e832382c219130",
       "style": "IPY_MODEL_72a7d1d274bd4b55ac9b4726d4f73046",
       "value": "<h5>Message</h5>"
      }
     },
     "b59202644a164b74b3f57c680b54064a": {
      "model_module": "@jupyter-widgets/controls",
      "model_module_version": "1.5.0",
      "model_name": "DescriptionStyleModel",
      "state": {
       "description_width": ""
      }
     },
     "b67d0d8f3dbe4524a3a50bbde9838824": {
      "model_module": "@jupyter-widgets/controls",
      "model_module_version": "1.5.0",
      "model_name": "DescriptionStyleModel",
      "state": {
       "description_width": ""
      }
     },
     "b76d554cbb5d4973941b76f62b08e92b": {
      "model_module": "@jupyter-widgets/controls",
      "model_module_version": "1.5.0",
      "model_name": "HTMLModel",
      "state": {
       "layout": "IPY_MODEL_d37b4298bb264a9fadd6272a8fed90c4",
       "style": "IPY_MODEL_acf12bdfd3854a7e938f1e6d14ce42f7",
       "value": "<h5>Status</h5>"
      }
     },
     "b95321527a8e492f9fe36af96511137d": {
      "model_module": "@jupyter-widgets/controls",
      "model_module_version": "1.5.0",
      "model_name": "VBoxModel",
      "state": {
       "children": [
        "IPY_MODEL_27af298bfb504df99bbbd4667960e960",
        "IPY_MODEL_ad298ce67c2949bb8f2e210f38e64d3f"
       ],
       "layout": "IPY_MODEL_6d2df020bbde4fe2b30c789381687ea3"
      }
     },
     "ba0815f471b748de9d302d1841ad47c5": {
      "model_module": "@jupyter-widgets/base",
      "model_module_version": "1.2.0",
      "model_name": "LayoutModel",
      "state": {}
     },
     "bad36029383743779942c3f3a88ab828": {
      "model_module": "@jupyter-widgets/base",
      "model_module_version": "1.2.0",
      "model_name": "LayoutModel",
      "state": {}
     },
     "c0204b916d92486a84b880e76996ec2a": {
      "model_module": "@jupyter-widgets/base",
      "model_module_version": "1.2.0",
      "model_name": "LayoutModel",
      "state": {}
     },
     "c0d6d48c9fb945d1a726d9b53f23c690": {
      "model_module": "@jupyter-widgets/controls",
      "model_module_version": "1.5.0",
      "model_name": "DescriptionStyleModel",
      "state": {
       "description_width": ""
      }
     },
     "c48784c69ab248eb96e5944bdad06ef7": {
      "model_module": "@jupyter-widgets/controls",
      "model_module_version": "1.5.0",
      "model_name": "ButtonStyleModel",
      "state": {}
     },
     "c62fddb8354c4121bde8a4fe7b524e7c": {
      "model_module": "@jupyter-widgets/controls",
      "model_module_version": "1.5.0",
      "model_name": "DescriptionStyleModel",
      "state": {
       "description_width": ""
      }
     },
     "c7bbef52c08043f8b98aca42add05540": {
      "model_module": "@jupyter-widgets/controls",
      "model_module_version": "1.5.0",
      "model_name": "LabelModel",
      "state": {
       "layout": "IPY_MODEL_d977a99b023948698a26817b091f68a1",
       "style": "IPY_MODEL_ab2cb83834ff40398a1d72f8704e07b1",
       "value": "State Vector:"
      }
     },
     "d37b4298bb264a9fadd6272a8fed90c4": {
      "model_module": "@jupyter-widgets/base",
      "model_module_version": "1.2.0",
      "model_name": "LayoutModel",
      "state": {
       "width": "95px"
      }
     },
     "d4964e262c60441b8076953040b9b75e": {
      "model_module": "@jupyter-widgets/controls",
      "model_module_version": "1.5.0",
      "model_name": "DescriptionStyleModel",
      "state": {
       "description_width": ""
      }
     },
     "d75f947c8c3147a0abae5b7b977e261a": {
      "model_module": "@jupyter-widgets/controls",
      "model_module_version": "1.5.0",
      "model_name": "LabelModel",
      "state": {
       "layout": "IPY_MODEL_3dfbce9784df4353962043bf30d0e42e",
       "style": "IPY_MODEL_21d4173d65454e9d87f802c819ab4289",
       "value": "State Vector:"
      }
     },
     "d848c0166ddd41c2add792156da39f8e": {
      "model_module": "@jupyter-widgets/base",
      "model_module_version": "1.2.0",
      "model_name": "LayoutModel",
      "state": {}
     },
     "d977a99b023948698a26817b091f68a1": {
      "model_module": "@jupyter-widgets/base",
      "model_module_version": "1.2.0",
      "model_name": "LayoutModel",
      "state": {}
     },
     "da6e833b595f4bc7ba4aca3301e076ce": {
      "model_module": "@jupyter-widgets/base",
      "model_module_version": "1.2.0",
      "model_name": "LayoutModel",
      "state": {
       "width": "145px"
      }
     },
     "dcddc6d7db0e46ff94a73ffa17a994c0": {
      "model_module": "@jupyter-widgets/controls",
      "model_module_version": "1.5.0",
      "model_name": "HTMLModel",
      "state": {
       "layout": "IPY_MODEL_628f0974b4c249509bf0f1b557f268f1",
       "style": "IPY_MODEL_c0d6d48c9fb945d1a726d9b53f23c690",
       "value": "<pre>Correct!</pre>"
      }
     },
     "de69eeb43a4445f2b6c40dd49de2de55": {
      "model_module": "@jupyter-widgets/base",
      "model_module_version": "1.2.0",
      "model_name": "LayoutModel",
      "state": {
       "width": "70px"
      }
     },
     "e47fef5677a647199dac13a7d48d5e66": {
      "model_module": "@jupyter-widgets/controls",
      "model_module_version": "1.5.0",
      "model_name": "ButtonStyleModel",
      "state": {}
     },
     "e5c6f2a9be6948238cd12106be6059ec": {
      "model_module": "@jupyter-widgets/controls",
      "model_module_version": "1.5.0",
      "model_name": "LabelModel",
      "state": {
       "layout": "IPY_MODEL_a939daba073d418c847403fa7fdf63ec",
       "style": "IPY_MODEL_a9a42e8948344500b61c33f3b909d023",
       "value": "State Vector:"
      }
     },
     "e6e8b7398ca74e25bcd4d0d357a56ab4": {
      "model_module": "@jupyter-widgets/controls",
      "model_module_version": "1.5.0",
      "model_name": "TextModel",
      "state": {
       "layout": "IPY_MODEL_3e3460ea0eec4ec7bbafd4fb70a80ebf",
       "placeholder": "Type something",
       "style": "IPY_MODEL_a2467efe24c345808c890482dc8efdb3",
       "value": "[1, 0]"
      }
     },
     "eb6dce943afb4a31afe6c839fd941609": {
      "model_module": "@jupyter-widgets/controls",
      "model_module_version": "1.5.0",
      "model_name": "TextModel",
      "state": {
       "layout": "IPY_MODEL_2a78982ab32841818d3e31b5b0d61dce",
       "placeholder": "Type something",
       "style": "IPY_MODEL_294f70f543534670b01bca2bab75088c",
       "value": "[sqrt(1/3),sqrt(2/3)]"
      }
     },
     "ed7effe7e58b4d7c88f032a57b06b9ed": {
      "model_module": "@jupyter-widgets/controls",
      "model_module_version": "1.5.0",
      "model_name": "ButtonStyleModel",
      "state": {}
     },
     "ee65d969899045c8a4bb6597318a759a": {
      "model_module": "@jupyter-widgets/controls",
      "model_module_version": "1.5.0",
      "model_name": "HTMLModel",
      "state": {
       "layout": "IPY_MODEL_9fccd623d5a04e899c30cccb0e1b2a1c",
       "style": "IPY_MODEL_34f8c64b1fb54d788036a6758ab43478",
       "value": "<pre>Correct!</pre>"
      }
     },
     "f06022ff1f1344959e058ba87bc9487c": {
      "model_module": "@jupyter-widgets/controls",
      "model_module_version": "1.5.0",
      "model_name": "ButtonModel",
      "state": {
       "description": "Check",
       "layout": "IPY_MODEL_228d8bacc59341a1b02fbf8938754261",
       "style": "IPY_MODEL_c48784c69ab248eb96e5944bdad06ef7"
      }
     },
     "f7b384f80b384d70b0f7e8c981ad00b9": {
      "model_module": "@jupyter-widgets/controls",
      "model_module_version": "1.5.0",
      "model_name": "ButtonModel",
      "state": {
       "description": "Check",
       "layout": "IPY_MODEL_3c74cab08d1245eeab9ee7d00832dfc7",
       "style": "IPY_MODEL_e47fef5677a647199dac13a7d48d5e66"
      }
     },
     "fb24b929ff034e2a9b231bdf93af7d20": {
      "model_module": "@jupyter-widgets/base",
      "model_module_version": "1.2.0",
      "model_name": "LayoutModel",
      "state": {
       "width": "5em"
      }
     },
     "fd60033aded343088fa6bfed965b8ddd": {
      "model_module": "@jupyter-widgets/base",
      "model_module_version": "1.2.0",
      "model_name": "LayoutModel",
      "state": {}
     },
     "fdc3b9cf86e44c6a9f1ef036520e7cb1": {
      "model_module": "@jupyter-widgets/base",
      "model_module_version": "1.2.0",
      "model_name": "LayoutModel",
      "state": {}
     },
     "ffe55c35a8ec4d97b3d7f06249c37bca": {
      "model_module": "@jupyter-widgets/base",
      "model_module_version": "1.2.0",
      "model_name": "LayoutModel",
      "state": {}
     }
    },
    "version_major": 2,
    "version_minor": 0
   }
  }
 },
 "nbformat": 4,
 "nbformat_minor": 5
}
