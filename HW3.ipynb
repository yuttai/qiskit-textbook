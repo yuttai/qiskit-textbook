{
 "cells": [
  {
   "cell_type": "code",
   "execution_count": 1,
   "id": "654930c2",
   "metadata": {},
   "outputs": [],
   "source": [
    "from qiskit_textbook.widgets import state_vector_exercise"
   ]
  },
  {
   "cell_type": "code",
   "execution_count": 3,
   "id": "37746461",
   "metadata": {},
   "outputs": [
    {
     "data": {
      "application/vnd.jupyter.widget-view+json": {
       "model_id": "ee5133ac38bc4a8baf07cf58e8fc1092",
       "version_major": 2,
       "version_minor": 0
      },
      "text/plain": [
       "VBox(children=(Label(value='Enter The State Vector:'), HBox(children=(Text(value='[1, 0, 0, 0]', placeholder='…"
      ]
     },
     "metadata": {},
     "output_type": "display_data"
    },
    {
     "data": {
      "application/vnd.jupyter.widget-view+json": {
       "model_id": "50abdbc2543d42efa1ae8fc801418252",
       "version_major": 2,
       "version_minor": 0
      },
      "text/plain": [
       "HTML(value='<pre></pre>')"
      ]
     },
     "metadata": {},
     "output_type": "display_data"
    }
   ],
   "source": [
    "state_vector_exercise(target=1/3)"
   ]
  },
  {
   "cell_type": "code",
   "execution_count": null,
   "id": "f1c728fb",
   "metadata": {},
   "outputs": [],
   "source": []
  }
 ],
 "metadata": {
  "kernelspec": {
   "display_name": "Python 3 (ipykernel)",
   "language": "python",
   "name": "python3"
  },
  "language_info": {
   "codemirror_mode": {
    "name": "ipython",
    "version": 3
   },
   "file_extension": ".py",
   "mimetype": "text/x-python",
   "name": "python",
   "nbconvert_exporter": "python",
   "pygments_lexer": "ipython3",
   "version": "3.9.7"
  }
 },
 "nbformat": 4,
 "nbformat_minor": 5
}
